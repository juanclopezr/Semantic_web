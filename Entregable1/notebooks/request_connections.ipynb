{
 "cells": [
  {
   "cell_type": "code",
   "execution_count": 9,
   "metadata": {},
   "outputs": [],
   "source": [
    "from pandas import read_pickle\n",
    "from tqdm import tqdm\n",
    "from thefuzz import process, fuzz\n",
    "\n",
    "from dotenv import load_dotenv\n",
    "from os import getenv\n",
    "load_dotenv()\n",
    "\n",
    "\n",
    "API_KEY = getenv('API_KEY')"
   ]
  },
  {
   "cell_type": "code",
   "execution_count": 26,
   "metadata": {},
   "outputs": [],
   "source": [
    "df = read_pickle('./data/api_request_results/retrieved_data.zip').reset_index(drop=True)\n"
   ]
  },
  {
   "cell_type": "code",
   "execution_count": 27,
   "metadata": {},
   "outputs": [],
   "source": [
    "df['simi_score'] = [fuzz.partial_ratio(row.title, row.db_title) for row in df.itertuples()]\n",
    "df.sort_values(['db_id','simi_score'], inplace=True)\n",
    "df.drop_duplicates(['db_id'], keep='last', inplace=True)\n",
    "df.reset_index(drop=True, inplace=True)"
   ]
  },
  {
   "cell_type": "code",
   "execution_count": 24,
   "metadata": {},
   "outputs": [],
   "source": [
    "# Realmente queremos quedarnos unicamente con los papers del dataset?\n",
    "df_filter = df.query('simi_score>80') # hay falsos positivos, pero no muchos\n",
    "\n",
    "# O unicamente con los papers que son de acceso abierto (pdf descargable)\n",
    "df = df[df.isOpenAccess].reset_index(drop=True)\n",
    "\n",
    "# usar todo => más datos!\n"
   ]
  },
  {
   "cell_type": "code",
   "execution_count": null,
   "metadata": {},
   "outputs": [],
   "source": [
    "## Recuperar los datos para referencias y citas"
   ]
  }
 ],
 "metadata": {
  "kernelspec": {
   "display_name": "Python 3",
   "language": "python",
   "name": "python3"
  },
  "language_info": {
   "codemirror_mode": {
    "name": "ipython",
    "version": 3
   },
   "file_extension": ".py",
   "mimetype": "text/x-python",
   "name": "python",
   "nbconvert_exporter": "python",
   "pygments_lexer": "ipython3",
   "version": "3.10.12"
  }
 },
 "nbformat": 4,
 "nbformat_minor": 2
}
