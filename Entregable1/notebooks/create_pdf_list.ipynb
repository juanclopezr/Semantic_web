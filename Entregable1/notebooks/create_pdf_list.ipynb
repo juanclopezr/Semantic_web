{
 "cells": [
  {
   "cell_type": "code",
   "execution_count": 1,
   "metadata": {},
   "outputs": [],
   "source": [
    "import pandas as pd"
   ]
  },
  {
   "cell_type": "code",
   "execution_count": 2,
   "metadata": {},
   "outputs": [],
   "source": [
    "# Función para muestrear hasta 'n' elementos de cada grupo\n",
    "def sample_n(group, n=7):\n",
    "    return group.sample(n=min(len(group), n))"
   ]
  },
  {
   "cell_type": "code",
   "execution_count": 3,
   "metadata": {},
   "outputs": [],
   "source": [
    "df = pd.read_pickle('../data/api_request_results/connections_catalogue.zip')\n",
    "df.drop_duplicates(subset=['paperId'], inplace=True)"
   ]
  },
  {
   "cell_type": "code",
   "execution_count": 4,
   "metadata": {},
   "outputs": [
    {
     "name": "stderr",
     "output_type": "stream",
     "text": [
      "/tmp/ipykernel_29331/913813786.py:3: SettingWithCopyWarning: \n",
      "A value is trying to be set on a copy of a slice from a DataFrame.\n",
      "Try using .loc[row_indexer,col_indexer] = value instead\n",
      "\n",
      "See the caveats in the documentation: https://pandas.pydata.org/pandas-docs/stable/user_guide/indexing.html#returning-a-view-versus-a-copy\n",
      "  df_conns['pdf_url'] = [i.get('url') for i in df_conns.openAccessPdf]\n",
      "/tmp/ipykernel_29331/913813786.py:5: SettingWithCopyWarning: \n",
      "A value is trying to be set on a copy of a slice from a DataFrame\n",
      "\n",
      "See the caveats in the documentation: https://pandas.pydata.org/pandas-docs/stable/user_guide/indexing.html#returning-a-view-versus-a-copy\n",
      "  df_conns.sort_values('db_id', inplace= True)\n",
      "/tmp/ipykernel_29331/913813786.py:9: DeprecationWarning: DataFrameGroupBy.apply operated on the grouping columns. This behavior is deprecated, and in a future version of pandas the grouping columns will be excluded from the operation. Either pass `include_groups=False` to exclude the groupings or explicitly select the grouping columns after groupby to silence this warning.\n",
      "  df_conns = df_conns.groupby('db_id').apply(sample_n).reset_index(drop=True)\n"
     ]
    }
   ],
   "source": [
    "df_conns = df[~df.openAccessPdf.isna()]\n",
    "\n",
    "df_conns['pdf_url'] = [i.get('url') for i in df_conns.openAccessPdf]\n",
    "\n",
    "df_conns.sort_values('db_id', inplace= True)\n",
    "\n",
    "df_conns = df_conns[['paperId', 'db_id', 'pdf_url', 'con_type']]\n",
    "\n",
    "df_conns = df_conns.groupby('db_id').apply(sample_n).reset_index(drop=True)"
   ]
  },
  {
   "cell_type": "code",
   "execution_count": 5,
   "metadata": {},
   "outputs": [],
   "source": [
    "df_retrieved_full = pd.read_pickle('../data/api_request_results/retrieved_data.zip')"
   ]
  },
  {
   "cell_type": "code",
   "execution_count": 6,
   "metadata": {},
   "outputs": [],
   "source": [
    "df_retrieved = df_retrieved_full[df_retrieved_full.db_id.isin(df.db_id.unique())]\n",
    "df_retrieved = df_retrieved[~df_retrieved.openAccessPdf.isna()]\n",
    "\n",
    "df_retrieved['pdf_url'] = [i.get('url') for i in df_retrieved.openAccessPdf]\n",
    "df_retrieved['con_type'] = 'original_source'\n",
    "\n",
    "df_retrieved = df_retrieved[['paperId', 'db_id', 'pdf_url', 'con_type']].reset_index(drop=True)"
   ]
  },
  {
   "cell_type": "code",
   "execution_count": 7,
   "metadata": {},
   "outputs": [],
   "source": [
    "pdf_catalogue = pd.concat([df_conns, df_retrieved], ignore_index=True)"
   ]
  },
  {
   "cell_type": "code",
   "execution_count": 8,
   "metadata": {},
   "outputs": [
    {
     "data": {
      "text/plain": [
       "11897"
      ]
     },
     "execution_count": 8,
     "metadata": {},
     "output_type": "execute_result"
    }
   ],
   "source": [
    "len(pdf_catalogue)"
   ]
  },
  {
   "cell_type": "code",
   "execution_count": 9,
   "metadata": {},
   "outputs": [],
   "source": [
    "pdf_catalogue.to_parquet('../data/api_request_results/pdf_catalogue.parquet', index=False)"
   ]
  },
  {
   "cell_type": "code",
   "execution_count": null,
   "metadata": {},
   "outputs": [],
   "source": []
  }
 ],
 "metadata": {
  "kernelspec": {
   "display_name": "Python 3",
   "language": "python",
   "name": "python3"
  },
  "language_info": {
   "codemirror_mode": {
    "name": "ipython",
    "version": 3
   },
   "file_extension": ".py",
   "mimetype": "text/x-python",
   "name": "python",
   "nbconvert_exporter": "python",
   "pygments_lexer": "ipython3",
   "version": "3.10.12"
  }
 },
 "nbformat": 4,
 "nbformat_minor": 2
}
