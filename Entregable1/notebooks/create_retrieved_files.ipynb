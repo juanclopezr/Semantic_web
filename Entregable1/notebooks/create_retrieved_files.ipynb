{
 "cells": [
  {
   "cell_type": "code",
   "execution_count": 1,
   "metadata": {},
   "outputs": [],
   "source": [
    "from pandas import concat, read_pickle\n",
    "from tqdm import tqdm \n",
    "from glob import glob"
   ]
  },
  {
   "cell_type": "code",
   "execution_count": 2,
   "metadata": {},
   "outputs": [
    {
     "name": "stderr",
     "output_type": "stream",
     "text": [
      "  0%|          | 0/1948 [00:00<?, ?it/s]"
     ]
    },
    {
     "name": "stderr",
     "output_type": "stream",
     "text": [
      "100%|██████████| 1948/1948 [00:35<00:00, 54.71it/s] \n",
      "100%|██████████| 10969/10969 [00:43<00:00, 252.58it/s]\n",
      "/tmp/ipykernel_6366/728421973.py:16: FutureWarning: The behavior of DataFrame concatenation with empty or all-NA entries is deprecated. In a future version, this will no longer exclude empty or all-NA columns when determining the result dtypes. To retain the old behavior, exclude the relevant entries before the concat operation.\n",
      "  retrieved_data = concat(\n"
     ]
    }
   ],
   "source": [
    "retrieved_data = concat(\n",
    "                [read_pickle(f) for f in tqdm(glob('../data/api_request_results/connections/*'))]\n",
    "                )\n",
    "\n",
    "\n",
    "retrieved_data.to_pickle('../data/api_request_results/retrieved_data_connections.zip', \n",
    "                            compression= {\n",
    "                            'method': 'zip',\n",
    "                            'compresslevel': 9  # Nivel máximo de compresión para ZIP\n",
    "                            }\n",
    "                    )\n",
    "\n",
    "del retrieved_data\n",
    "\n",
    "\n",
    "retrieved_data = concat(\n",
    "                    [read_pickle(f) for f in tqdm(glob('../data/api_request_results/documents/*'))]\n",
    "                    )\n",
    "\n",
    "\n",
    "retrieved_data.to_pickle(f'../data/api_request_results/retrieved_data.zip', \n",
    "                            compression= {\n",
    "                            'method': 'zip',\n",
    "                            'compresslevel': 9  # Nivel máximo de compresión para ZIP\n",
    "                            }\n",
    "                    )\n",
    "\n",
    "del retrieved_data\n"
   ]
  },
  {
   "cell_type": "code",
   "execution_count": null,
   "metadata": {},
   "outputs": [],
   "source": []
  }
 ],
 "metadata": {
  "kernelspec": {
   "display_name": "Python 3",
   "language": "python",
   "name": "python3"
  },
  "language_info": {
   "codemirror_mode": {
    "name": "ipython",
    "version": 3
   },
   "file_extension": ".py",
   "mimetype": "text/x-python",
   "name": "python",
   "nbconvert_exporter": "python",
   "pygments_lexer": "ipython3",
   "version": "3.10.12"
  }
 },
 "nbformat": 4,
 "nbformat_minor": 2
}
