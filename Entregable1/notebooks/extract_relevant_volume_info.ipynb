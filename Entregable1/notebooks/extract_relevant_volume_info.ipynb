{
 "cells": [
  {
   "cell_type": "code",
   "execution_count": 1,
   "metadata": {},
   "outputs": [],
   "source": [
    "import pandas as pd\n",
    "from tqdm import tqdm"
   ]
  },
  {
   "cell_type": "code",
   "execution_count": 2,
   "metadata": {},
   "outputs": [],
   "source": [
    "ori_df = pd.read_parquet('../data/data_4.parquet')"
   ]
  },
  {
   "cell_type": "code",
   "execution_count": 3,
   "metadata": {},
   "outputs": [
    {
     "data": {
      "text/plain": [
       "156240"
      ]
     },
     "execution_count": 3,
     "metadata": {},
     "output_type": "execute_result"
    }
   ],
   "source": [
    "len(ori_df)"
   ]
  },
  {
   "cell_type": "code",
   "execution_count": 4,
   "metadata": {},
   "outputs": [],
   "source": [
    "df = pd.read_pickle('../data/api_request_results/retrieved_data.zip').reset_index(drop=True)\n"
   ]
  },
  {
   "cell_type": "code",
   "execution_count": 5,
   "metadata": {},
   "outputs": [
    {
     "name": "stderr",
     "output_type": "stream",
     "text": [
      "215it [00:00, 707.32it/s]/tmp/ipykernel_14445/2237633897.py:12: FutureWarning: The behavior of DataFrame concatenation with empty or all-NA entries is deprecated. In a future version, this will no longer exclude empty or all-NA columns when determining the result dtypes. To retain the old behavior, exclude the relevant entries before the concat operation.\n",
      "  con_df = pd.concat([refs_df, cits_df], ignore_index=True)\n",
      "1660it [00:02, 759.59it/s]/tmp/ipykernel_14445/2237633897.py:12: FutureWarning: The behavior of DataFrame concatenation with empty or all-NA entries is deprecated. In a future version, this will no longer exclude empty or all-NA columns when determining the result dtypes. To retain the old behavior, exclude the relevant entries before the concat operation.\n",
      "  con_df = pd.concat([refs_df, cits_df], ignore_index=True)\n",
      "2288it [00:03, 770.91it/s]/tmp/ipykernel_14445/2237633897.py:12: FutureWarning: The behavior of DataFrame concatenation with empty or all-NA entries is deprecated. In a future version, this will no longer exclude empty or all-NA columns when determining the result dtypes. To retain the old behavior, exclude the relevant entries before the concat operation.\n",
      "  con_df = pd.concat([refs_df, cits_df], ignore_index=True)\n",
      "3422it [00:04, 733.75it/s]/tmp/ipykernel_14445/2237633897.py:12: FutureWarning: The behavior of DataFrame concatenation with empty or all-NA entries is deprecated. In a future version, this will no longer exclude empty or all-NA columns when determining the result dtypes. To retain the old behavior, exclude the relevant entries before the concat operation.\n",
      "  con_df = pd.concat([refs_df, cits_df], ignore_index=True)\n",
      "3723it [00:05, 735.12it/s]/tmp/ipykernel_14445/2237633897.py:12: FutureWarning: The behavior of DataFrame concatenation with empty or all-NA entries is deprecated. In a future version, this will no longer exclude empty or all-NA columns when determining the result dtypes. To retain the old behavior, exclude the relevant entries before the concat operation.\n",
      "  con_df = pd.concat([refs_df, cits_df], ignore_index=True)\n",
      "4176it [00:05, 733.31it/s]/tmp/ipykernel_14445/2237633897.py:12: FutureWarning: The behavior of DataFrame concatenation with empty or all-NA entries is deprecated. In a future version, this will no longer exclude empty or all-NA columns when determining the result dtypes. To retain the old behavior, exclude the relevant entries before the concat operation.\n",
      "  con_df = pd.concat([refs_df, cits_df], ignore_index=True)\n",
      "4847it [00:06, 725.95it/s]/tmp/ipykernel_14445/2237633897.py:12: FutureWarning: The behavior of DataFrame concatenation with empty or all-NA entries is deprecated. In a future version, this will no longer exclude empty or all-NA columns when determining the result dtypes. To retain the old behavior, exclude the relevant entries before the concat operation.\n",
      "  con_df = pd.concat([refs_df, cits_df], ignore_index=True)\n",
      "5005it [00:06, 757.36it/s]/tmp/ipykernel_14445/2237633897.py:12: FutureWarning: The behavior of DataFrame concatenation with empty or all-NA entries is deprecated. In a future version, this will no longer exclude empty or all-NA columns when determining the result dtypes. To retain the old behavior, exclude the relevant entries before the concat operation.\n",
      "  con_df = pd.concat([refs_df, cits_df], ignore_index=True)\n",
      "6221it [00:08, 756.52it/s]/tmp/ipykernel_14445/2237633897.py:12: FutureWarning: The behavior of DataFrame concatenation with empty or all-NA entries is deprecated. In a future version, this will no longer exclude empty or all-NA columns when determining the result dtypes. To retain the old behavior, exclude the relevant entries before the concat operation.\n",
      "  con_df = pd.concat([refs_df, cits_df], ignore_index=True)\n",
      "7854it [00:10, 772.00it/s]/tmp/ipykernel_14445/2237633897.py:12: FutureWarning: The behavior of DataFrame concatenation with empty or all-NA entries is deprecated. In a future version, this will no longer exclude empty or all-NA columns when determining the result dtypes. To retain the old behavior, exclude the relevant entries before the concat operation.\n",
      "  con_df = pd.concat([refs_df, cits_df], ignore_index=True)\n",
      "9962it [00:16, 764.95it/s]/tmp/ipykernel_14445/2237633897.py:12: FutureWarning: The behavior of DataFrame concatenation with empty or all-NA entries is deprecated. In a future version, this will no longer exclude empty or all-NA columns when determining the result dtypes. To retain the old behavior, exclude the relevant entries before the concat operation.\n",
      "  con_df = pd.concat([refs_df, cits_df], ignore_index=True)\n",
      "10278it [00:16, 752.46it/s]/tmp/ipykernel_14445/2237633897.py:12: FutureWarning: The behavior of DataFrame concatenation with empty or all-NA entries is deprecated. In a future version, this will no longer exclude empty or all-NA columns when determining the result dtypes. To retain the old behavior, exclude the relevant entries before the concat operation.\n",
      "  con_df = pd.concat([refs_df, cits_df], ignore_index=True)\n",
      "11298it [00:18, 776.54it/s]/tmp/ipykernel_14445/2237633897.py:12: FutureWarning: The behavior of DataFrame concatenation with empty or all-NA entries is deprecated. In a future version, this will no longer exclude empty or all-NA columns when determining the result dtypes. To retain the old behavior, exclude the relevant entries before the concat operation.\n",
      "  con_df = pd.concat([refs_df, cits_df], ignore_index=True)\n",
      "14539it [00:22, 776.26it/s]/tmp/ipykernel_14445/2237633897.py:12: FutureWarning: The behavior of DataFrame concatenation with empty or all-NA entries is deprecated. In a future version, this will no longer exclude empty or all-NA columns when determining the result dtypes. To retain the old behavior, exclude the relevant entries before the concat operation.\n",
      "  con_df = pd.concat([refs_df, cits_df], ignore_index=True)\n",
      "15564it [00:23, 774.11it/s]/tmp/ipykernel_14445/2237633897.py:12: FutureWarning: The behavior of DataFrame concatenation with empty or all-NA entries is deprecated. In a future version, this will no longer exclude empty or all-NA columns when determining the result dtypes. To retain the old behavior, exclude the relevant entries before the concat operation.\n",
      "  con_df = pd.concat([refs_df, cits_df], ignore_index=True)\n",
      "16119it [00:24, 772.03it/s]/tmp/ipykernel_14445/2237633897.py:12: FutureWarning: The behavior of DataFrame concatenation with empty or all-NA entries is deprecated. In a future version, this will no longer exclude empty or all-NA columns when determining the result dtypes. To retain the old behavior, exclude the relevant entries before the concat operation.\n",
      "  con_df = pd.concat([refs_df, cits_df], ignore_index=True)\n",
      "18712it [00:27, 766.67it/s]/tmp/ipykernel_14445/2237633897.py:12: FutureWarning: The behavior of DataFrame concatenation with empty or all-NA entries is deprecated. In a future version, this will no longer exclude empty or all-NA columns when determining the result dtypes. To retain the old behavior, exclude the relevant entries before the concat operation.\n",
      "  con_df = pd.concat([refs_df, cits_df], ignore_index=True)\n",
      "20853it [00:30, 762.18it/s]/tmp/ipykernel_14445/2237633897.py:12: FutureWarning: The behavior of DataFrame concatenation with empty or all-NA entries is deprecated. In a future version, this will no longer exclude empty or all-NA columns when determining the result dtypes. To retain the old behavior, exclude the relevant entries before the concat operation.\n",
      "  con_df = pd.concat([refs_df, cits_df], ignore_index=True)\n",
      "21866it [00:31, 738.45it/s]/tmp/ipykernel_14445/2237633897.py:12: FutureWarning: The behavior of DataFrame concatenation with empty or all-NA entries is deprecated. In a future version, this will no longer exclude empty or all-NA columns when determining the result dtypes. To retain the old behavior, exclude the relevant entries before the concat operation.\n",
      "  con_df = pd.concat([refs_df, cits_df], ignore_index=True)\n",
      "23450it [00:33, 770.35it/s]/tmp/ipykernel_14445/2237633897.py:12: FutureWarning: The behavior of DataFrame concatenation with empty or all-NA entries is deprecated. In a future version, this will no longer exclude empty or all-NA columns when determining the result dtypes. To retain the old behavior, exclude the relevant entries before the concat operation.\n",
      "  con_df = pd.concat([refs_df, cits_df], ignore_index=True)\n",
      "25203it [00:36, 695.80it/s]\n"
     ]
    }
   ],
   "source": [
    "dfs = []\n",
    "for row in tqdm(df.itertuples()):\n",
    "    \n",
    "    refs_df = pd.DataFrame(row.references)\n",
    "    refs_df['db_id'] = row.db_id\n",
    "    refs_df['con_type'] = 'reference'\n",
    "    \n",
    "    cits_df = pd.DataFrame(row.citations)\n",
    "    cits_df['db_id'] = row.db_id\n",
    "    cits_df['con_type'] = 'citation'\n",
    "    \n",
    "    con_df = pd.concat([refs_df, cits_df], ignore_index=True)\n",
    "    \n",
    "    dfs.append(con_df)"
   ]
  },
  {
   "cell_type": "code",
   "execution_count": 6,
   "metadata": {},
   "outputs": [],
   "source": [
    "total_cons = pd.concat(dfs)"
   ]
  },
  {
   "cell_type": "code",
   "execution_count": 7,
   "metadata": {},
   "outputs": [],
   "source": [
    "df_cons = pd.read_pickle('../data/api_request_results/retrieved_data_connections.zip').reset_index(drop=True)"
   ]
  },
  {
   "cell_type": "code",
   "execution_count": 8,
   "metadata": {},
   "outputs": [
    {
     "name": "stderr",
     "output_type": "stream",
     "text": [
      "1322it [00:01, 721.76it/s]/tmp/ipykernel_14445/1762529962.py:10: FutureWarning: The behavior of DataFrame concatenation with empty or all-NA entries is deprecated. In a future version, this will no longer exclude empty or all-NA columns when determining the result dtypes. To retain the old behavior, exclude the relevant entries before the concat operation.\n",
      "  con_df = pd.concat([refs_df, cits_df], ignore_index=True)\n",
      "1940it [00:02, 777.22it/s]/tmp/ipykernel_14445/1762529962.py:10: FutureWarning: The behavior of DataFrame concatenation with empty or all-NA entries is deprecated. In a future version, this will no longer exclude empty or all-NA columns when determining the result dtypes. To retain the old behavior, exclude the relevant entries before the concat operation.\n",
      "  con_df = pd.concat([refs_df, cits_df], ignore_index=True)\n",
      "3543it [00:04, 781.56it/s]/tmp/ipykernel_14445/1762529962.py:10: FutureWarning: The behavior of DataFrame concatenation with empty or all-NA entries is deprecated. In a future version, this will no longer exclude empty or all-NA columns when determining the result dtypes. To retain the old behavior, exclude the relevant entries before the concat operation.\n",
      "  con_df = pd.concat([refs_df, cits_df], ignore_index=True)\n",
      "4089it [00:05, 752.81it/s]/tmp/ipykernel_14445/1762529962.py:10: FutureWarning: The behavior of DataFrame concatenation with empty or all-NA entries is deprecated. In a future version, this will no longer exclude empty or all-NA columns when determining the result dtypes. To retain the old behavior, exclude the relevant entries before the concat operation.\n",
      "  con_df = pd.concat([refs_df, cits_df], ignore_index=True)\n",
      "5159it [00:06, 814.14it/s]/tmp/ipykernel_14445/1762529962.py:10: FutureWarning: The behavior of DataFrame concatenation with empty or all-NA entries is deprecated. In a future version, this will no longer exclude empty or all-NA columns when determining the result dtypes. To retain the old behavior, exclude the relevant entries before the concat operation.\n",
      "  con_df = pd.concat([refs_df, cits_df], ignore_index=True)\n",
      "6969it [00:09, 761.19it/s]/tmp/ipykernel_14445/1762529962.py:10: FutureWarning: The behavior of DataFrame concatenation with empty or all-NA entries is deprecated. In a future version, this will no longer exclude empty or all-NA columns when determining the result dtypes. To retain the old behavior, exclude the relevant entries before the concat operation.\n",
      "  con_df = pd.concat([refs_df, cits_df], ignore_index=True)\n",
      "7125it [00:09, 766.57it/s]/tmp/ipykernel_14445/1762529962.py:10: FutureWarning: The behavior of DataFrame concatenation with empty or all-NA entries is deprecated. In a future version, this will no longer exclude empty or all-NA columns when determining the result dtypes. To retain the old behavior, exclude the relevant entries before the concat operation.\n",
      "  con_df = pd.concat([refs_df, cits_df], ignore_index=True)\n",
      "9929it [00:12, 810.71it/s]/tmp/ipykernel_14445/1762529962.py:10: FutureWarning: The behavior of DataFrame concatenation with empty or all-NA entries is deprecated. In a future version, this will no longer exclude empty or all-NA columns when determining the result dtypes. To retain the old behavior, exclude the relevant entries before the concat operation.\n",
      "  con_df = pd.concat([refs_df, cits_df], ignore_index=True)\n",
      "10011it [00:12, 791.55it/s]/tmp/ipykernel_14445/1762529962.py:10: FutureWarning: The behavior of DataFrame concatenation with empty or all-NA entries is deprecated. In a future version, this will no longer exclude empty or all-NA columns when determining the result dtypes. To retain the old behavior, exclude the relevant entries before the concat operation.\n",
      "  con_df = pd.concat([refs_df, cits_df], ignore_index=True)\n",
      "10262it [00:13, 771.07it/s]\n"
     ]
    }
   ],
   "source": [
    "dfs = []\n",
    "for row in tqdm(df_cons.itertuples()):\n",
    "    \n",
    "    refs_df = pd.DataFrame(row.references)\n",
    "    refs_df['con_type'] = 'reference'\n",
    "    \n",
    "    cits_df = pd.DataFrame(row.citations)\n",
    "    cits_df['con_type'] = 'citation'\n",
    "    \n",
    "    con_df = pd.concat([refs_df, cits_df], ignore_index=True)\n",
    "    \n",
    "    dfs.append(con_df)"
   ]
  },
  {
   "cell_type": "code",
   "execution_count": 9,
   "metadata": {},
   "outputs": [
    {
     "data": {
      "text/plain": [
       "546393"
      ]
     },
     "execution_count": 9,
     "metadata": {},
     "output_type": "execute_result"
    }
   ],
   "source": [
    "df_cons_cons = pd.concat(dfs)\n",
    "546393"
   ]
  },
  {
   "cell_type": "code",
   "execution_count": 10,
   "metadata": {},
   "outputs": [],
   "source": [
    "total_data_retrieved = pd.concat([df, df_cons, df_cons_cons, total_cons], ignore_index=True)"
   ]
  },
  {
   "cell_type": "code",
   "execution_count": 11,
   "metadata": {},
   "outputs": [],
   "source": [
    "total_data_retrieved.drop_duplicates('paperId', inplace=True)"
   ]
  },
  {
   "cell_type": "code",
   "execution_count": 15,
   "metadata": {},
   "outputs": [
    {
     "data": {
      "text/plain": [
       "952978"
      ]
     },
     "execution_count": 15,
     "metadata": {},
     "output_type": "execute_result"
    }
   ],
   "source": [
    "total_data_retrieved.isOpenAccess.sum()"
   ]
  }
 ],
 "metadata": {
  "kernelspec": {
   "display_name": "Python 3",
   "language": "python",
   "name": "python3"
  },
  "language_info": {
   "codemirror_mode": {
    "name": "ipython",
    "version": 3
   },
   "file_extension": ".py",
   "mimetype": "text/x-python",
   "name": "python",
   "nbconvert_exporter": "python",
   "pygments_lexer": "ipython3",
   "version": "3.10.12"
  }
 },
 "nbformat": 4,
 "nbformat_minor": 2
}
